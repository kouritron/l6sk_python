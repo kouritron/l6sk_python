{
 "cells": [
  {
   "cell_type": "code",
   "execution_count": 1,
   "metadata": {},
   "outputs": [],
   "source": [
    "import os\n",
    "import sys\n",
    "import json\n",
    "import time \n",
    "import enum\n",
    "import random\n",
    "import inspect\n",
    "import requests\n",
    "import typing\n",
    "import queue\n",
    "import hashlib\n",
    "import base64\n",
    "import asyncio\n",
    "import sqlite3\n",
    "\n",
    "from dataclasses import dataclass, field\n",
    "import typing\n",
    "# from typing import Callable, List, Union, Set, Any\n",
    "\n",
    "local_import_path = '/home/zu/x1ws/l6sk_python'\n",
    "\n",
    "if local_import_path not in sys.path:\n",
    "    sys.path.append(local_import_path)"
   ]
  },
  {
   "cell_type": "code",
   "execution_count": 2,
   "metadata": {},
   "outputs": [],
   "source": [
    "from l6sk import knobman as km\n",
    "# from l6sk.dbl import dao_sqlite\n",
    "# from l6sk.dbl.dbl_dispatch import DBL_REQ\n",
    "# from l6sk.dbl.dbl_api import DBL_API"
   ]
  },
  {
   "cell_type": "code",
   "execution_count": null,
   "metadata": {},
   "outputs": [],
   "source": []
  },
  {
   "cell_type": "code",
   "execution_count": 3,
   "metadata": {},
   "outputs": [
    {
     "name": "stdout",
     "output_type": "stream",
     "text": [
      "dbconn: <sqlite3.Connection object at 0x7fb748350d50>\n",
      "cursor: <sqlite3.Cursor object at 0x7fb7482dfa40>\n"
     ]
    }
   ],
   "source": [
    "# default log group.\n",
    "dlg_conn = sqlite3.connect(\":memory:\", isolation_level=None)\n",
    "dlg_cur = dlg_conn.cursor()\n",
    "print(f\"dbconn: {dlg_conn}\")\n",
    "print(f\"cursor: {dlg_cur}\")"
   ]
  },
  {
   "cell_type": "code",
   "execution_count": null,
   "metadata": {},
   "outputs": [],
   "source": []
  },
  {
   "cell_type": "code",
   "execution_count": 4,
   "metadata": {},
   "outputs": [],
   "source": [
    "# executescript() to do multiple statements at once.\n",
    "# but this does not allow accessing results\n",
    "# sqlite is in process and there is no round trip penalty, no network, ...\n",
    "# there is no point in doing multiple queries in one execute, you can just loop over your queries\n",
    "# at least thats what they are saying. so dont expect an equivalent to mariadb multiple statements, ..."
   ]
  },
  {
   "cell_type": "markdown",
   "metadata": {},
   "source": [
    "# test some competing table designs."
   ]
  },
  {
   "cell_type": "markdown",
   "metadata": {},
   "source": [
    "### Simplification hints/opinions:\n",
    "\n",
    "- We are not trying to recreate ELK. We said ELK is too much. We want something lighter and more simple.\n",
    "- Sort of like redis vs mongodb. They are both key value stores in a sense. \n",
    "but redis is redis is lighter, smaller, meant to be just a lookaside buffer, running on each instance, whereas\n",
    "mongodb is meant to be the bigger scalabla db cluster that handles sharding, json features,\n",
    "undo/redo log atomicity (at least for individual CRUD operation), reconciling data among nodes, leader election, ....\n",
    "\n",
    "\n",
    "```text\n",
    "- Logs go to \"log_group\". there is a default log_group if you didnt specify one.\n",
    "- no hierarchical log groups and namespaces and what not. log groups are not like filesystem ie:\n",
    "/my/cool/app/prod/....\n",
    "\n",
    "just a flat namespace per l6sk instance.\n",
    "\n",
    "- I think each log group should be a separate database/schema.\n",
    "but this is the concern of the DB Layer.\n",
    "\n",
    "- all names (table, schema, ..) must be < 63 chars in pg.\n",
    "- start w/ a letter\n",
    "- avoid SQL reserved keywords. \n",
    "\n",
    "- log group names can only be alphanumeric, start with letter, and can not contain 2 back to back underscore\n",
    "- easier soln: prefix db/schema name w/ \"l6sk_....\" and impose 50 char limit, \n",
    "now the name must be in alphanumeric and thats it.\n",
    "\n",
    "\n",
    "\n",
    "```\n",
    "\n",
    "\n"
   ]
  },
  {
   "cell_type": "code",
   "execution_count": 5,
   "metadata": {},
   "outputs": [
    {
     "name": "stdout",
     "output_type": "stream",
     "text": [
      "- = _ + | \\ { } ' : / > < ? ' ~ ` \n",
      "\n",
      "\n",
      "\n",
      "1 2 3 4 5 6 7 8 9 0 - = _ + | \\ { } ' : / > < ? ' ~ ` "
     ]
    }
   ],
   "source": [
    "test_string = \"zxcvbnmasdfghjklqwertyuiopZXCVBNMASDFGHJKLQWERTYUIOP1234567890-=_+|\\{}':/><?'~`\"\n",
    "for ch in test_string:\n",
    "    if not ch.isalnum():\n",
    "        print(ch, end=\" \")\n",
    "\n",
    "print(\"\\n\\n\\n\")\n",
    "for ch in test_string:\n",
    "    if not ch.isalpha():\n",
    "        print(ch, end=\" \")"
   ]
  },
  {
   "cell_type": "code",
   "execution_count": null,
   "metadata": {},
   "outputs": [],
   "source": []
  },
  {
   "cell_type": "code",
   "execution_count": 6,
   "metadata": {},
   "outputs": [
    {
     "name": "stdout",
     "output_type": "stream",
     "text": [
      "AZxV89HW_SvGbZsyFDkDP6q0\n"
     ]
    }
   ],
   "source": [
    "sess_id = base64.urlsafe_b64encode(os.urandom(18)).decode('ascii')\n",
    "print(sess_id)"
   ]
  },
  {
   "cell_type": "code",
   "execution_count": 7,
   "metadata": {},
   "outputs": [],
   "source": [
    "# TODO add a ping/hi/healthcheck API endpoint\n",
    "# ie ping, reply from l6sk ...\n",
    "\n"
   ]
  },
  {
   "cell_type": "code",
   "execution_count": 8,
   "metadata": {},
   "outputs": [],
   "source": [
    "# ======================================================================================================================\n",
    "# ======================================================================================================================\n",
    "# =========================================================================================================== Log Record\n",
    "@dataclass(frozen=False)\n",
    "class LOG_RECORD:\n",
    "    \"A LOG_RECORD fully describes/tracks a single log message, and is generated for each log message.\"\n",
    "    \n",
    "    # client_ts: client timestamp. generated by client SDK at the time log msg was issued.\n",
    "    client_ts: float = None\n",
    "    \n",
    "    # server timestamp, generated by the l6sk server upon reception. used for trim/rotate/discard/...\n",
    "    # must not be null in the database.\n",
    "    srv_ts: float = None\n",
    "    \n",
    "    # level attached to this log msg. i.e. if user said: log.dbg() then this is set to DBUG\n",
    "    # for simplicity only allowed options are 'DBUG', 'INFO', 'WARN', 'ERRR', 'CRIT' or Null\n",
    "    # null/none is useful for fifo_2_l6sk \n",
    "    lvl: str = None\n",
    "        \n",
    "    # optional. A subsystem name. None means no subsystem/main/generic. if you may want\n",
    "    # to see/filter log msgs issued by separate subsystems\n",
    "    # seperately you can use this. like get_logger(__file__)\n",
    "    subsys: str = None\n",
    "    \n",
    "    # optional. everytime a client logger is init()ed, a new random session id will be created. \n",
    "    # l6sk user can also set a session id. its like a way to group things together within a log group.\n",
    "    # useful if you ran the program 5 times, you can always see latest session (based on one of the ts)\n",
    "    # and then go back and compare to the session 5 runs ago.\n",
    "    session_id: str = None\n",
    "    \n",
    "    # caller information,, line number, function name, filename, modulename, package.\n",
    "    lineno: str = None\n",
    "    filename: str = None\n",
    "    funcname: str = None\n",
    "    \n",
    "    # process info\n",
    "    pname: str = None\n",
    "    pid: str = None\n",
    "\n",
    "    # thread info\n",
    "    tname: str = None\n",
    "    tid: str = None\n",
    "    \n",
    "    # the log msg issued to lg36.\n",
    "    msg: str = None\n",
    "\n",
    "\n"
   ]
  },
  {
   "cell_type": "code",
   "execution_count": null,
   "metadata": {},
   "outputs": [],
   "source": []
  },
  {
   "cell_type": "code",
   "execution_count": null,
   "metadata": {},
   "outputs": [],
   "source": []
  },
  {
   "cell_type": "code",
   "execution_count": null,
   "metadata": {},
   "outputs": [],
   "source": []
  },
  {
   "cell_type": "code",
   "execution_count": null,
   "metadata": {},
   "outputs": [],
   "source": []
  },
  {
   "cell_type": "code",
   "execution_count": 89,
   "metadata": {},
   "outputs": [],
   "source": [
    "refersh_schema_script = f\"\"\"\n",
    "DROP TABLE IF EXISTS log_record;\n",
    "\n",
    "-- log records\n",
    "CREATE TABLE IF NOT EXISTS log_record(\n",
    "\n",
    "    lrid INTEGER PRIMARY KEY AUTOINCREMENT NOT NULL,\n",
    "\n",
    "    lvl TEXT,\n",
    "\n",
    "    session_id TEXT,\n",
    "\n",
    "    -- unix time\n",
    "    srv_ts TEXT NOT NULL DEFAULT(strftime('%s','now')),\n",
    "\n",
    "    -- client generated could be null\n",
    "    client_ts TEXT,\n",
    "    \n",
    "    -- caller info, mostly optional, depends on client info gathering abilities\n",
    "    lineno TEXT,\n",
    "    filename TEXT,\n",
    "    funcname TEXT,\n",
    "    pid TEXT,\n",
    "    pname TEXT,\n",
    "    tid TEXT,\n",
    "    tname TEXT,\n",
    "    \n",
    "    -- actual log msg. in case of fifo middleman, then this is a line of output.\n",
    "    msg TEXT,\n",
    "\n",
    "    CHECK (lvl IS NULL OR lvl IN ('DBUG', 'INFO', 'WARN', 'ERRR', 'CRIT'))\n",
    ");\n",
    "\n",
    "\"\"\"\n"
   ]
  },
  {
   "cell_type": "code",
   "execution_count": 90,
   "metadata": {},
   "outputs": [
    {
     "data": {
      "text/plain": [
       "<sqlite3.Cursor at 0x7fb7482dfa40>"
      ]
     },
     "execution_count": 90,
     "metadata": {},
     "output_type": "execute_result"
    }
   ],
   "source": [
    "dlg_cur.executescript(refersh_schema_script)"
   ]
  },
  {
   "cell_type": "code",
   "execution_count": null,
   "metadata": {},
   "outputs": [],
   "source": []
  },
  {
   "cell_type": "code",
   "execution_count": 91,
   "metadata": {},
   "outputs": [
    {
     "data": {
      "text/plain": [
       "<sqlite3.Cursor at 0x7fb7482dfa40>"
      ]
     },
     "execution_count": 91,
     "metadata": {},
     "output_type": "execute_result"
    }
   ],
   "source": [
    "dlg_cur.execute('INSERT INTO log_record(lrid, lvl, session_id, client_ts, msg) VALUES (100, \"DBUG\", \"_sess_\" , \"1604852083\", \"Hi\");')\n"
   ]
  },
  {
   "cell_type": "code",
   "execution_count": 92,
   "metadata": {},
   "outputs": [
    {
     "data": {
      "text/plain": [
       "<sqlite3.Cursor at 0x7fb7482dfa40>"
      ]
     },
     "execution_count": 92,
     "metadata": {},
     "output_type": "execute_result"
    }
   ],
   "source": [
    "dlg_cur.execute('INSERT INTO log_record(lrid, lvl, session_id, client_ts, msg) VALUES (110, ?, \"_sess_\" , \"1604852085\", \"Hi\");', [None])\n"
   ]
  },
  {
   "cell_type": "code",
   "execution_count": 93,
   "metadata": {},
   "outputs": [],
   "source": [
    "# for client ts percision, its upto the client. for python client 4 makes sense\n",
    "\n",
    "for _ in range(20):\n",
    "    tmp_rec = [random.choice(['DBUG', 'INFO', \"WARN\", \"ERRR\", \"CRIT\"]), sess_id, f\"{time.time():.4f}\", \"hello world\"]\n",
    "    dlg_cur.execute('INSERT INTO log_record(lvl, session_id, client_ts, msg) VALUES (?, ?, ?, ?);', tmp_rec)\n"
   ]
  },
  {
   "cell_type": "code",
   "execution_count": null,
   "metadata": {},
   "outputs": [],
   "source": []
  },
  {
   "cell_type": "code",
   "execution_count": null,
   "metadata": {},
   "outputs": [],
   "source": []
  },
  {
   "cell_type": "code",
   "execution_count": null,
   "metadata": {},
   "outputs": [],
   "source": []
  },
  {
   "cell_type": "code",
   "execution_count": 94,
   "metadata": {},
   "outputs": [
    {
     "name": "stdout",
     "output_type": "stream",
     "text": [
      "(100, 'DBUG', '_sess_', '1605002109', '1604852083', None, None, None, None, None, None, None, 'Hi')\n",
      "(110, None, '_sess_', '1605002110', '1604852085', None, None, None, None, None, None, None, 'Hi')\n",
      "(111, 'WARN', 'AZxV89HW_SvGbZsyFDkDP6q0', '1605002110', '1605002110.2660', None, None, None, None, None, None, None, 'hello world')\n",
      "(112, 'INFO', 'AZxV89HW_SvGbZsyFDkDP6q0', '1605002110', '1605002110.2665', None, None, None, None, None, None, None, 'hello world')\n",
      "(113, 'WARN', 'AZxV89HW_SvGbZsyFDkDP6q0', '1605002110', '1605002110.2665', None, None, None, None, None, None, None, 'hello world')\n",
      "(114, 'ERRR', 'AZxV89HW_SvGbZsyFDkDP6q0', '1605002110', '1605002110.2665', None, None, None, None, None, None, None, 'hello world')\n",
      "(115, 'DBUG', 'AZxV89HW_SvGbZsyFDkDP6q0', '1605002110', '1605002110.2666', None, None, None, None, None, None, None, 'hello world')\n",
      "(116, 'WARN', 'AZxV89HW_SvGbZsyFDkDP6q0', '1605002110', '1605002110.2666', None, None, None, None, None, None, None, 'hello world')\n",
      "(117, 'ERRR', 'AZxV89HW_SvGbZsyFDkDP6q0', '1605002110', '1605002110.2666', None, None, None, None, None, None, None, 'hello world')\n",
      "(118, 'ERRR', 'AZxV89HW_SvGbZsyFDkDP6q0', '1605002110', '1605002110.2666', None, None, None, None, None, None, None, 'hello world')\n",
      "(119, 'INFO', 'AZxV89HW_SvGbZsyFDkDP6q0', '1605002110', '1605002110.2666', None, None, None, None, None, None, None, 'hello world')\n",
      "(120, 'ERRR', 'AZxV89HW_SvGbZsyFDkDP6q0', '1605002110', '1605002110.2666', None, None, None, None, None, None, None, 'hello world')\n",
      "(121, 'CRIT', 'AZxV89HW_SvGbZsyFDkDP6q0', '1605002110', '1605002110.2667', None, None, None, None, None, None, None, 'hello world')\n",
      "(122, 'INFO', 'AZxV89HW_SvGbZsyFDkDP6q0', '1605002110', '1605002110.2667', None, None, None, None, None, None, None, 'hello world')\n",
      "(123, 'ERRR', 'AZxV89HW_SvGbZsyFDkDP6q0', '1605002110', '1605002110.2667', None, None, None, None, None, None, None, 'hello world')\n",
      "(124, 'INFO', 'AZxV89HW_SvGbZsyFDkDP6q0', '1605002110', '1605002110.2667', None, None, None, None, None, None, None, 'hello world')\n",
      "(125, 'ERRR', 'AZxV89HW_SvGbZsyFDkDP6q0', '1605002110', '1605002110.2667', None, None, None, None, None, None, None, 'hello world')\n",
      "(126, 'DBUG', 'AZxV89HW_SvGbZsyFDkDP6q0', '1605002110', '1605002110.2668', None, None, None, None, None, None, None, 'hello world')\n",
      "(127, 'DBUG', 'AZxV89HW_SvGbZsyFDkDP6q0', '1605002110', '1605002110.2668', None, None, None, None, None, None, None, 'hello world')\n",
      "(128, 'DBUG', 'AZxV89HW_SvGbZsyFDkDP6q0', '1605002110', '1605002110.2668', None, None, None, None, None, None, None, 'hello world')\n",
      "(129, 'ERRR', 'AZxV89HW_SvGbZsyFDkDP6q0', '1605002110', '1605002110.2668', None, None, None, None, None, None, None, 'hello world')\n",
      "(130, 'INFO', 'AZxV89HW_SvGbZsyFDkDP6q0', '1605002110', '1605002110.2668', None, None, None, None, None, None, None, 'hello world')\n"
     ]
    }
   ],
   "source": [
    "dlg_cur.execute('SELECT * FROM log_record;')\n",
    "\n",
    "for rec in dlg_cur.fetchall():\n",
    "    print(rec)"
   ]
  },
  {
   "cell_type": "code",
   "execution_count": null,
   "metadata": {},
   "outputs": [],
   "source": []
  },
  {
   "cell_type": "code",
   "execution_count": 95,
   "metadata": {},
   "outputs": [
    {
     "name": "stdout",
     "output_type": "stream",
     "text": [
      "(None,)\n"
     ]
    }
   ],
   "source": [
    "# dlg_cur.execute(\"SELECT * FROM (SELECT 'aaaa' as c1, NULL as c2) where c1 IN ('a', 'aaaa', NULL);\")\n",
    "dlg_cur.execute(\"SELECT NULL = NULL;\")\n",
    "\n",
    "\n",
    "for rec in dlg_cur.fetchall():\n",
    "    print(rec)"
   ]
  },
  {
   "cell_type": "code",
   "execution_count": null,
   "metadata": {},
   "outputs": [],
   "source": []
  },
  {
   "cell_type": "code",
   "execution_count": null,
   "metadata": {},
   "outputs": [],
   "source": []
  },
  {
   "cell_type": "code",
   "execution_count": null,
   "metadata": {},
   "outputs": [],
   "source": []
  }
 ],
 "metadata": {
  "kernelspec": {
   "display_name": "Python 3.6.9 64-bit",
   "language": "python",
   "name": "python36964bit6486db22bd404319aca96f84d42312c3"
  },
  "language_info": {
   "codemirror_mode": {
    "name": "ipython",
    "version": 3
   },
   "file_extension": ".py",
   "mimetype": "text/x-python",
   "name": "python",
   "nbconvert_exporter": "python",
   "pygments_lexer": "ipython3",
   "version": "3.6.9"
  }
 },
 "nbformat": 4,
 "nbformat_minor": 4
}
