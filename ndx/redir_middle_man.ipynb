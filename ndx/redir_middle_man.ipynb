{
 "cells": [
  {
   "cell_type": "code",
   "execution_count": 5,
   "metadata": {},
   "outputs": [],
   "source": [
    "import os\n",
    "import sys\n",
    "import json\n",
    "import time \n",
    "import enum\n",
    "import random\n",
    "import inspect\n",
    "import requests\n",
    "import typing\n",
    "import queue\n",
    "import hashlib\n",
    "import base64\n",
    "import asyncio\n",
    "\n",
    "import subprocess as sp\n",
    "from concurrent.futures import ThreadPoolExecutor\n",
    "\n",
    "import sqlite3\n",
    "\n",
    "from dataclasses import dataclass, field\n",
    "import typing\n",
    "# from typing import Callable, List, Union, Set, Any\n",
    "\n",
    "# local_import_path = '/home/zu/x1ws/l6sk_python'\n",
    "# if local_import_path not in sys.path:\n",
    "#     sys.path.append(local_import_path)"
   ]
  },
  {
   "cell_type": "code",
   "execution_count": 9,
   "metadata": {},
   "outputs": [
    {
     "name": "stdout",
     "output_type": "stream",
     "text": [
      "/tmp/l6sk_pipe_5054d6f8dc0bcf16\n"
     ]
    }
   ],
   "source": [
    "named_pipe_path = f'/tmp/l6sk_pipe_{os.urandom(8).hex()}'\n",
    "print(named_pipe_path)"
   ]
  },
  {
   "cell_type": "code",
   "execution_count": null,
   "metadata": {},
   "outputs": [],
   "source": []
  },
  {
   "cell_type": "code",
   "execution_count": 14,
   "metadata": {},
   "outputs": [
    {
     "name": "stdout",
     "output_type": "stream",
     "text": [
      "prw-rw-r-- 1 zu zu 0 Nov  8 22:50 /tmp/l6sk_pipe_5054d6f8dc0bcf16\n",
      "\n"
     ]
    }
   ],
   "source": [
    "sp.call(f'mkfifo {named_pipe_path}', shell=True)\n",
    "print(sp.check_output(f'ls -lah {named_pipe_path}', shell=True).decode())"
   ]
  },
  {
   "cell_type": "code",
   "execution_count": null,
   "metadata": {},
   "outputs": [],
   "source": []
  },
  {
   "cell_type": "code",
   "execution_count": 15,
   "metadata": {},
   "outputs": [],
   "source": [
    "tmp_fifo = open(named_pipe_path, 'rb')"
   ]
  },
  {
   "cell_type": "code",
   "execution_count": null,
   "metadata": {},
   "outputs": [],
   "source": []
  },
  {
   "cell_type": "code",
   "execution_count": null,
   "metadata": {},
   "outputs": [],
   "source": []
  },
  {
   "cell_type": "code",
   "execution_count": null,
   "metadata": {},
   "outputs": [],
   "source": []
  },
  {
   "cell_type": "code",
   "execution_count": 4,
   "metadata": {},
   "outputs": [],
   "source": [
    "io_tpx = ThreadPoolExecutor(max_workers=1)"
   ]
  },
  {
   "cell_type": "code",
   "execution_count": null,
   "metadata": {},
   "outputs": [],
   "source": []
  },
  {
   "cell_type": "code",
   "execution_count": null,
   "metadata": {},
   "outputs": [],
   "source": [
    "line = yield from loop.run_in_executor(io_tpx, f.readline)\n"
   ]
  },
  {
   "cell_type": "code",
   "execution_count": null,
   "metadata": {},
   "outputs": [],
   "source": []
  },
  {
   "cell_type": "code",
   "execution_count": null,
   "metadata": {},
   "outputs": [],
   "source": []
  },
  {
   "cell_type": "code",
   "execution_count": null,
   "metadata": {},
   "outputs": [],
   "source": []
  }
 ],
 "metadata": {
  "kernelspec": {
   "display_name": "Python 3.6.9 64-bit",
   "language": "python",
   "name": "python36964bit6486db22bd404319aca96f84d42312c3"
  },
  "language_info": {
   "codemirror_mode": {
    "name": "ipython",
    "version": 3
   },
   "file_extension": ".py",
   "mimetype": "text/x-python",
   "name": "python",
   "nbconvert_exporter": "python",
   "pygments_lexer": "ipython3",
   "version": "3.6.9"
  }
 },
 "nbformat": 4,
 "nbformat_minor": 4
}
