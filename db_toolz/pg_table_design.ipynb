{
 "cells": [
  {
   "cell_type": "code",
   "execution_count": 1,
   "metadata": {},
   "outputs": [],
   "source": [
    "import os\n",
    "import sys\n",
    "import json\n",
    "import time \n",
    "import enum\n",
    "import inspect\n",
    "import requests\n",
    "import typing\n",
    "import queue\n",
    "import hashlib\n",
    "import base64\n",
    "import asyncio\n",
    "import sqlite3\n",
    "import subprocess as sp\n",
    "from contextlib import closing\n",
    "\n",
    "from dataclasses import dataclass, field\n",
    "from typing import Callable, List, Union, Set, Any\n",
    "\n",
    "import pymysql\n",
    "import psycopg2\n",
    "import psycopg2.extras\n",
    "\n",
    "local_import_path = '/home/zu/x1ws/l6sk_python'\n",
    "\n",
    "if local_import_path not in sys.path:\n",
    "    sys.path.append(local_import_path)\n"
   ]
  },
  {
   "cell_type": "code",
   "execution_count": 2,
   "metadata": {},
   "outputs": [],
   "source": [
    "from l6sk import knobman as km"
   ]
  },
  {
   "cell_type": "code",
   "execution_count": 3,
   "metadata": {},
   "outputs": [],
   "source": [
    "_DEV_SECRET = sp.check_output(\"cat ~/.ssh/id_rsa.pub | sha512sum - | cut -c1-24\", shell=True).decode().strip()\n",
    "\n",
    "# dsn = \"... dbname=postgres options='-c synchronous_commit=off'\"\n",
    "_PG_DSN_SYNC = {\n",
    "    \"database\": \"postgres\",\n",
    "    \"host\": \"127.0.0.1\",\n",
    "    \"port\": \"9832\",\n",
    "    \"user\": \"postgres\",\n",
    "    \"password\": _DEV_SECRET,\n",
    "    \n",
    "    # any other options should be passed along to underlying lib, but only those psycopg2 understands\n",
    "    # and accepts. \"nonz\": \"hello world\" wouldnt be accepted or passed along\n",
    "    \"application_name\": \"fts_ntbk_sync\",\n",
    "}\n",
    "\n",
    "_PG_DSN_NO_SYNC = _PG_DSN_SYNC.copy() # shallow is enof.\n",
    "_PG_DSN_NO_SYNC[\"options\"] = \"-c synchronous_commit=off\"\n",
    "_PG_DSN_NO_SYNC[\"application_name\"] = \"fts_ntbk_unsync\""
   ]
  },
  {
   "cell_type": "code",
   "execution_count": 4,
   "metadata": {},
   "outputs": [],
   "source": [
    "unsync_dbconn = psycopg2.connect(**_PG_DSN_NO_SYNC)\n",
    "unsync_dbconn.autocommit = True"
   ]
  },
  {
   "cell_type": "code",
   "execution_count": 5,
   "metadata": {},
   "outputs": [],
   "source": [
    "# common q exec.\n",
    "def exec_q(q, pr_res=True, col_names=True):\n",
    "    with closing(unsync_dbconn.cursor()) as tmp_cur:\n",
    "        tmp_cur.execute(q)\n",
    "        if pr_res:\n",
    "            if col_names:\n",
    "                print(\"|\".join([desc[0] for desc in tmp_cur.description]))\n",
    "            print('-'*40)\n",
    "            for row in tmp_cur.fetchall():\n",
    "                print(row)\n",
    "            # sep\n",
    "            print(\"\")"
   ]
  },
  {
   "cell_type": "code",
   "execution_count": 6,
   "metadata": {},
   "outputs": [
    {
     "name": "stdout",
     "output_type": "stream",
     "text": [
      "synchronous_commit\n",
      "----------------------------------------\n",
      "('off',)\n",
      "\n"
     ]
    }
   ],
   "source": [
    "exec_q(\"SHOW synchronous_commit;\")"
   ]
  },
  {
   "cell_type": "markdown",
   "metadata": {},
   "source": [
    "# test some competing table designs."
   ]
  },
  {
   "cell_type": "code",
   "execution_count": null,
   "metadata": {},
   "outputs": [],
   "source": []
  },
  {
   "cell_type": "code",
   "execution_count": null,
   "metadata": {},
   "outputs": [],
   "source": []
  },
  {
   "cell_type": "code",
   "execution_count": null,
   "metadata": {},
   "outputs": [],
   "source": []
  },
  {
   "cell_type": "code",
   "execution_count": null,
   "metadata": {},
   "outputs": [],
   "source": []
  },
  {
   "cell_type": "code",
   "execution_count": null,
   "metadata": {},
   "outputs": [],
   "source": []
  }
 ],
 "metadata": {
  "kernelspec": {
   "display_name": "Python 3.6.9 64-bit",
   "language": "python",
   "name": "python36964bit6486db22bd404319aca96f84d42312c3"
  },
  "language_info": {
   "codemirror_mode": {
    "name": "ipython",
    "version": 3
   },
   "file_extension": ".py",
   "mimetype": "text/x-python",
   "name": "python",
   "nbconvert_exporter": "python",
   "pygments_lexer": "ipython3",
   "version": "3.6.9"
  }
 },
 "nbformat": 4,
 "nbformat_minor": 4
}
