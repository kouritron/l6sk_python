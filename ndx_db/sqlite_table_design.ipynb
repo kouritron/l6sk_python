{
 "cells": [
  {
   "cell_type": "code",
   "execution_count": 5,
   "metadata": {},
   "outputs": [],
   "source": [
    "import os\n",
    "import sys\n",
    "import json\n",
    "import time \n",
    "import enum\n",
    "import inspect\n",
    "import requests\n",
    "import typing\n",
    "import queue\n",
    "import hashlib\n",
    "import base64\n",
    "import asyncio\n",
    "import sqlite3\n",
    "\n",
    "from dataclasses import dataclass, field\n",
    "from typing import Callable, List, Union, Set, Any\n",
    "\n",
    "local_import_path = '/home/zu/x1ws/l6sk_python'\n",
    "\n",
    "if local_import_path not in sys.path:\n",
    "    sys.path.append(local_import_path)"
   ]
  },
  {
   "cell_type": "code",
   "execution_count": 6,
   "metadata": {},
   "outputs": [],
   "source": [
    "from l6sk import knobman as km\n",
    "# from l6sk.dbl import dao_sqlite\n",
    "# from l6sk.dbl.dbl_dispatch import DBL_REQ\n",
    "# from l6sk.dbl.dbl_api import DBL_API"
   ]
  },
  {
   "cell_type": "code",
   "execution_count": null,
   "metadata": {},
   "outputs": [],
   "source": []
  },
  {
   "cell_type": "code",
   "execution_count": 7,
   "metadata": {},
   "outputs": [
    {
     "name": "stdout",
     "output_type": "stream",
     "text": [
      "dbconn: <sqlite3.Connection object at 0x7f48283c1c70>\n",
      "cursor: <sqlite3.Cursor object at 0x7f4828351ab0>\n"
     ]
    }
   ],
   "source": [
    "dbconn = sqlite3.connect(\":memory:\", isolation_level=None)\n",
    "cursor = dbconn.cursor()\n",
    "print(f\"dbconn: {dbconn}\")\n",
    "print(f\"cursor: {cursor}\")"
   ]
  },
  {
   "cell_type": "code",
   "execution_count": null,
   "metadata": {},
   "outputs": [],
   "source": []
  },
  {
   "cell_type": "markdown",
   "metadata": {},
   "source": [
    "# test some competing table designs."
   ]
  },
  {
   "cell_type": "code",
   "execution_count": 8,
   "metadata": {},
   "outputs": [
    {
     "data": {
      "text/plain": [
       "<sqlite3.Cursor at 0x7f4828351ab0>"
      ]
     },
     "execution_count": 8,
     "metadata": {},
     "output_type": "execute_result"
    }
   ],
   "source": [
    "q = \"DROP TABLE IF EXISTS user;\"\n",
    "cursor.execute(q)"
   ]
  },
  {
   "cell_type": "code",
   "execution_count": null,
   "metadata": {},
   "outputs": [],
   "source": []
  },
  {
   "cell_type": "code",
   "execution_count": null,
   "metadata": {},
   "outputs": [],
   "source": []
  },
  {
   "cell_type": "code",
   "execution_count": null,
   "metadata": {},
   "outputs": [],
   "source": []
  },
  {
   "cell_type": "code",
   "execution_count": null,
   "metadata": {},
   "outputs": [],
   "source": []
  },
  {
   "cell_type": "code",
   "execution_count": null,
   "metadata": {},
   "outputs": [],
   "source": []
  }
 ],
 "metadata": {
  "kernelspec": {
   "display_name": "Python 3.6.9 64-bit",
   "language": "python",
   "name": "python36964bit6486db22bd404319aca96f84d42312c3"
  },
  "language_info": {
   "codemirror_mode": {
    "name": "ipython",
    "version": 3
   },
   "file_extension": ".py",
   "mimetype": "text/x-python",
   "name": "python",
   "nbconvert_exporter": "python",
   "pygments_lexer": "ipython3",
   "version": "3.6.9"
  }
 },
 "nbformat": 4,
 "nbformat_minor": 4
}
